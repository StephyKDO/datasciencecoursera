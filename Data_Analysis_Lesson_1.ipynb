{
 "cells": [
  {
   "cell_type": "markdown",
   "metadata": {},
   "source": [
    "# Data Analysis Process"
   ]
  },
  {
   "cell_type": "raw",
   "metadata": {},
   "source": [
    "The data analysis process has 5 steps:\n",
    "    1) Question\n",
    "    2) Wrangle (acquire & clean the data)\n",
    "    3) Explore\n",
    "    4) Draw Conclusions\n",
    "    5) Communicate\n",
    "During the process you iterate several time through the steps, for instance while exploring you may find you need to fix problems in the data and go back to the data wrangling phase; or you may be getting the data and then ask a question after exploring it."
   ]
  },
  {
   "cell_type": "markdown",
   "metadata": {},
   "source": [
    "# Data Set & Question"
   ]
  },
  {
   "cell_type": "raw",
   "metadata": {},
   "source": [
    "In this analysis we will be working with 3 files:\n",
    "    1) enrollment.csv\n",
    "    2) daily_engagement.csv\n",
    "    3) project_submissions.csv\n",
    "    \n",
    "QUESTION: how do numbers in the daily engagement table differ for students who pass the first project?"
   ]
  },
  {
   "cell_type": "raw",
   "metadata": {},
   "source": [
    "enrollments.csv:\n",
    "\n",
    "Data about a random subset of Data Analyst Nanodegree students who complete\n",
    "their first project and a random subset of students who do not.\n",
    "\n",
    "Columns:\n",
    "   - account_key:    A unique identifier for the account of the student who\n",
    "                     enrolled.\n",
    "\n",
    "    - status:         The enrollment status of the student at the time the data\n",
    "                      was collected. Possible values are 'canceled' and\n",
    "                      'current'.\n",
    "\n",
    "    - join_date:      The date the student enrolled.\n",
    "\n",
    "    - cancel_date:    The date the student canceled, or blank if the student has\n",
    "                      not yet canceled.\n",
    "\n",
    "    - days_to_cancel: The number of days between join_date and cancel_date, or\n",
    "                      blank if the student has not yet canceled.\n",
    "\n",
    "    - is_udacity:     True if the account is a Udacity test account, False\n",
    "                      otherwise.\n",
    "\n",
    "    - is_canceled:    True if the student had canceled this enrollment at the\n",
    "                      time the data was collected, False otherwise."
   ]
  },
  {
   "cell_type": "raw",
   "metadata": {},
   "source": [
    "daily_engagement.csv:\n",
    "\n",
    "Data about engagement within Data Analyst Nanodegree courses for each student in\n",
    "the enrollment table on each day they were enrolled. Includes a record even if\n",
    "there was no engagement that day. Includes engagement data from both the\n",
    "supporting courses for the Nanodegree program, and the corresponding freely\n",
    "available courses with the same content.\n",
    "\n",
    "Columns:\n",
    "    - acct:                  A unique identifier for the account of the student\n",
    "                             whose engagement data this is.\n",
    "\n",
    "    - utc_date:              The date for which the data was collected.\n",
    "\n",
    "    - num_courses_visited:   The total number of Data Analyst Nanodegree courses\n",
    "                             the student visited for at 2 minutes on this day.\n",
    "                             Nanodegree courses and freely available courses\n",
    "                             with the same content are counted separately.\n",
    "\n",
    "    - total_minutes_visited: The total number of minutes the student spent\n",
    "                             taking Data Analyst Nanodegree courses on this day.\n",
    "\n",
    "    - lessons_completed:     The total number of lessons within Data Analyst\n",
    "                             Nanodegree courses on this day.\n",
    "\n",
    "    - projects_completed:    The total number of Data Analyst Nanodegree\n",
    "                             projects the student completed on this day."
   ]
  },
  {
   "cell_type": "raw",
   "metadata": {},
   "source": [
    "project_submissions.csv:\n",
    "\n",
    "Data about submissions for Data Analyst Nanodegree projects for each student in\n",
    "the enrollment table.\n",
    "\n",
    "Columns:\n",
    "    - creation_date:    The date the project was submitted.\n",
    "\n",
    "    - completion_date:  The date the project was evaluated.\n",
    "\n",
    "    - assigned_rating:  This column has 4 possible values:\n",
    "                        blank - Project has not yet been evaluated.\n",
    "                        INCOMPLETE - Project did not meet specifications.\n",
    "                        PASSED - Project met specifications.\n",
    "                        DISTINCTION - Project exceeded specifications.\n",
    "                        UNGRADED - The submission could not be evaluated\n",
    "                                   (e.g. contained a corrupted file)\n",
    "\n",
    "    - account_key:      A unique identifier for the account of the student who\n",
    "                        submitted the project.\n",
    "\n",
    "    - lesson_key:       A unique identifier for the project that was submitted.\n",
    "\n",
    "    - processing_state: This column has 2 possible values:\n",
    "                        CREATED - Project has been submitted but not evaluated.\n",
    "                        EVALUATED - Project has been evaluated."
   ]
  },
  {
   "cell_type": "markdown",
   "metadata": {},
   "source": [
    "# Load data from CSV Files"
   ]
  },
  {
   "cell_type": "markdown",
   "metadata": {},
   "source": [
    "Write a function that can be called to import all CSV files needed for the analysis"
   ]
  },
  {
   "cell_type": "code",
   "execution_count": 30,
   "metadata": {},
   "outputs": [],
   "source": [
    "import unicodecsv\n",
    "\n",
    "def read_csv(filename):\n",
    "    with open (filename, 'rb') as f:\n",
    "        reader = unicodecsv.DictReader(f)\n",
    "        return list(reader)\n",
    "\n",
    "enrollments = read_csv('enrollments.csv')\n",
    "daily_engagement = read_csv('daily_engagement.csv')\n",
    "project_submissions = read_csv('project_submissions.csv')"
   ]
  },
  {
   "cell_type": "markdown",
   "metadata": {},
   "source": [
    "Check what the files contains & the format of the different values"
   ]
  },
  {
   "cell_type": "code",
   "execution_count": 31,
   "metadata": {},
   "outputs": [
    {
     "data": {
      "text/plain": [
       "OrderedDict([('account_key', '448'),\n",
       "             ('status', 'canceled'),\n",
       "             ('join_date', '2014-11-10'),\n",
       "             ('cancel_date', '2015-01-14'),\n",
       "             ('days_to_cancel', '65'),\n",
       "             ('is_udacity', 'True'),\n",
       "             ('is_canceled', 'True')])"
      ]
     },
     "execution_count": 31,
     "metadata": {},
     "output_type": "execute_result"
    }
   ],
   "source": [
    "enrollments[0]"
   ]
  },
  {
   "cell_type": "code",
   "execution_count": 32,
   "metadata": {},
   "outputs": [
    {
     "data": {
      "text/plain": [
       "OrderedDict([('acct', '0'),\n",
       "             ('utc_date', '2015-01-09'),\n",
       "             ('num_courses_visited', '1.0'),\n",
       "             ('total_minutes_visited', '11.6793745'),\n",
       "             ('lessons_completed', '0.0'),\n",
       "             ('projects_completed', '0.0')])"
      ]
     },
     "execution_count": 32,
     "metadata": {},
     "output_type": "execute_result"
    }
   ],
   "source": [
    "daily_engagement[0]"
   ]
  },
  {
   "cell_type": "code",
   "execution_count": 33,
   "metadata": {},
   "outputs": [
    {
     "data": {
      "text/plain": [
       "OrderedDict([('creation_date', '2015-01-14'),\n",
       "             ('completion_date', '2015-01-16'),\n",
       "             ('assigned_rating', 'UNGRADED'),\n",
       "             ('account_key', '256'),\n",
       "             ('lesson_key', '3176718735'),\n",
       "             ('processing_state', 'EVALUATED')])"
      ]
     },
     "execution_count": 33,
     "metadata": {},
     "output_type": "execute_result"
    }
   ],
   "source": [
    "project_submissions[0]"
   ]
  },
  {
   "cell_type": "markdown",
   "metadata": {},
   "source": [
    "# Fixing Data Types"
   ]
  },
  {
   "cell_type": "markdown",
   "metadata": {},
   "source": [
    "All the values are currently showing as string, however some of the data should be dates, numbers or boolean conditions that we can use for analysis. Below are 2 functions to easily convert string to dates & string to numbers."
   ]
  },
  {
   "cell_type": "code",
   "execution_count": 35,
   "metadata": {},
   "outputs": [],
   "source": [
    "from datetime import datetime as dt\n",
    "\n",
    "# Takes a date as a string, and returns a Python datetime object. \n",
    "# If there is no date given, returns None\n",
    "def parse_date(date):\n",
    "    if date == '':\n",
    "        return None\n",
    "    else:\n",
    "        return dt.strptime(date,'%Y-%m-%d')\n",
    "    \n",
    "# Takes a string which is either an empty string or represents an integer,\n",
    "# and returns an int or None.\n",
    "def parse_maybe_int(i):\n",
    "    if i == '':\n",
    "        return None\n",
    "    else:\n",
    "        return int(i)"
   ]
  },
  {
   "cell_type": "markdown",
   "metadata": {},
   "source": [
    "Clean-up the data in the enrollment table"
   ]
  },
  {
   "cell_type": "code",
   "execution_count": 36,
   "metadata": {},
   "outputs": [
    {
     "data": {
      "text/plain": [
       "OrderedDict([('account_key', '448'),\n",
       "             ('status', 'canceled'),\n",
       "             ('join_date', datetime.datetime(2014, 11, 10, 0, 0)),\n",
       "             ('cancel_date', datetime.datetime(2015, 1, 14, 0, 0)),\n",
       "             ('days_to_cancel', 65),\n",
       "             ('is_udacity', True),\n",
       "             ('is_canceled', True)])"
      ]
     },
     "execution_count": 36,
     "metadata": {},
     "output_type": "execute_result"
    }
   ],
   "source": [
    "for enrollment in enrollments:\n",
    "    enrollment['join_date'] = parse_date(enrollment['join_date'])\n",
    "    enrollment['cancel_date'] = parse_date(enrollment['cancel_date'])\n",
    "    enrollment['days_to_cancel'] = parse_maybe_int(enrollment['days_to_cancel'])\n",
    "    enrollment['is_udacity'] = enrollment['is_udacity'] == 'True'\n",
    "    enrollment['is_canceled'] = enrollment['is_canceled'] == 'True'\n",
    "\n",
    "enrollments[0]"
   ]
  },
  {
   "cell_type": "markdown",
   "metadata": {},
   "source": [
    "Clean-up the data in the daily_engagement table"
   ]
  },
  {
   "cell_type": "code",
   "execution_count": 37,
   "metadata": {},
   "outputs": [
    {
     "data": {
      "text/plain": [
       "OrderedDict([('acct', '0'),\n",
       "             ('utc_date', datetime.datetime(2015, 1, 9, 0, 0)),\n",
       "             ('num_courses_visited', 1),\n",
       "             ('total_minutes_visited', 11.6793745),\n",
       "             ('lessons_completed', 0),\n",
       "             ('projects_completed', 0)])"
      ]
     },
     "execution_count": 37,
     "metadata": {},
     "output_type": "execute_result"
    }
   ],
   "source": [
    "#in the original data numbers are given with a decimal so converting yhem directly to integer would fail\n",
    "for engagement in daily_engagement:\n",
    "    engagement['utc_date'] = parse_date(engagement['utc_date'])\n",
    "    engagement['num_courses_visited'] = int(float(engagement['num_courses_visited']))\n",
    "    engagement['total_minutes_visited'] = float(engagement['total_minutes_visited'])\n",
    "    engagement['lessons_completed'] = int(float(engagement['lessons_completed']))\n",
    "    engagement['projects_completed'] = int(float(engagement['projects_completed']))\n",
    "\n",
    "daily_engagement[0]"
   ]
  },
  {
   "cell_type": "markdown",
   "metadata": {},
   "source": [
    "Clean-up the data in the project_submissions table"
   ]
  },
  {
   "cell_type": "code",
   "execution_count": 39,
   "metadata": {},
   "outputs": [
    {
     "data": {
      "text/plain": [
       "OrderedDict([('creation_date', datetime.datetime(2015, 1, 14, 0, 0)),\n",
       "             ('completion_date', datetime.datetime(2015, 1, 16, 0, 0)),\n",
       "             ('assigned_rating', 'UNGRADED'),\n",
       "             ('account_key', '256'),\n",
       "             ('lesson_key', '3176718735'),\n",
       "             ('processing_state', 'EVALUATED')])"
      ]
     },
     "execution_count": 39,
     "metadata": {},
     "output_type": "execute_result"
    }
   ],
   "source": [
    "for submission in project_submissions:\n",
    "    submission['creation_date'] = parse_date(submission['creation_date'])\n",
    "    submission['completion_date'] = parse_date(submission['completion_date'])\n",
    "    \n",
    "project_submissions[0]"
   ]
  },
  {
   "cell_type": "markdown",
   "metadata": {},
   "source": [
    "Note when running the above cells that we are actively changing the contents of our data variables. If you try to run these cells multiple times in the same session, an error will occur"
   ]
  },
  {
   "cell_type": "markdown",
   "metadata": {},
   "source": [
    "# Problems in the Data"
   ]
  },
  {
   "cell_type": "markdown",
   "metadata": {},
   "source": [
    "The account_key is named differently in the daily_engagement table 'acct'. The below rename it to 'account_key'. Note that similar to above this can only be run once in one session or an error will occur given the variable name will have already been changed."
   ]
  },
  {
   "cell_type": "code",
   "execution_count": 51,
   "metadata": {},
   "outputs": [
    {
     "data": {
      "text/plain": [
       "OrderedDict([('utc_date', datetime.datetime(2015, 1, 9, 0, 0)),\n",
       "             ('num_courses_visited', 1),\n",
       "             ('total_minutes_visited', 11.6793745),\n",
       "             ('lessons_completed', 0),\n",
       "             ('projects_completed', 0),\n",
       "             ('account_key', '0')])"
      ]
     },
     "execution_count": 51,
     "metadata": {},
     "output_type": "execute_result"
    }
   ],
   "source": [
    "for engagement in daily_engagement:\n",
    "    #create a new key 'account_key' with identical value as 'acct' for each rows\n",
    "    engagement['account_key'] = engagement['acct']\n",
    "    #delete 'acct' key & value pair from the dictionary\n",
    "    del engagement['acct']\n",
    "daily_engagement[0]\n",
    "\n",
    "#OUTPUT BEFORE USING DEL\n",
    "#daily_engagement[0]\n",
    "#OrderedDict([('acct', '0'),\n",
    "#             ('utc_date', datetime.datetime(2015, 1, 9, 0, 0)),\n",
    "#             ('num_courses_visited', 1),\n",
    "#             ('total_minutes_visited', 11.6793745),\n",
    "#             ('lessons_completed', 0),\n",
    "#             ('projects_completed', 0),\n",
    "#             ('account_key', '0')])"
   ]
  },
  {
   "cell_type": "markdown",
   "metadata": {},
   "source": [
    "# Investigating the Data"
   ]
  },
  {
   "cell_type": "markdown",
   "metadata": {},
   "source": [
    "Total numbers of row in each table"
   ]
  },
  {
   "cell_type": "code",
   "execution_count": 54,
   "metadata": {},
   "outputs": [
    {
     "name": "stdout",
     "output_type": "stream",
     "text": [
      "Total records in enrollments: 1640\n",
      "Total records in daily_engagement: 136240\n",
      "Total records in project_submissions: 3642\n"
     ]
    }
   ],
   "source": [
    "def records_count(file_name, my_file):\n",
    "    print('Total records in {}: {}'.format(file_name, len(my_file)))\n",
    "\n",
    "records_count('enrollments', enrollments)\n",
    "records_count('daily_engagement', daily_engagement)\n",
    "records_count('project_submissions', project_submissions)\n"
   ]
  },
  {
   "cell_type": "markdown",
   "metadata": {},
   "source": [
    "Unique numbers of students (account_key) in each table"
   ]
  },
  {
   "cell_type": "code",
   "execution_count": 55,
   "metadata": {},
   "outputs": [
    {
     "name": "stdout",
     "output_type": "stream",
     "text": [
      "Unique students in enrollments: 1302\n",
      "Unique students in daily_engagement: 1237\n",
      "Unique students in project_submissions: 743\n"
     ]
    }
   ],
   "source": [
    "def unique_student(file_name, my_file):\n",
    "    unique_students = set()\n",
    "    for record in my_file:\n",
    "        unique_students.add(record['account_key'])\n",
    "    print('Unique students in {}: {}'.format(file_name, len(unique_students)))\n",
    "\n",
    "unique_student('enrollments', enrollments)\n",
    "unique_student('daily_engagement', daily_engagement)\n",
    "unique_student('project_submissions', project_submissions)"
   ]
  },
  {
   "cell_type": "markdown",
   "metadata": {},
   "source": [
    "# Missing Engagement Records"
   ]
  },
  {
   "cell_type": "markdown",
   "metadata": {},
   "source": [
    "When we compare the unique numbers of students in the enrollment and daily_engagement table above we can see that 65 students are missing from the daily_engagement table"
   ]
  },
  {
   "cell_type": "code",
   "execution_count": 56,
   "metadata": {},
   "outputs": [
    {
     "data": {
      "text/plain": [
       "65"
      ]
     },
     "execution_count": 56,
     "metadata": {},
     "output_type": "execute_result"
    }
   ],
   "source": [
    "1302-1237"
   ]
  },
  {
   "cell_type": "markdown",
   "metadata": {},
   "source": [
    "First, let's look at one of the record for a student present in enrollment but not in engagement table to see if there is anything particular about that record that could explain why it doesn't appear in the daily_engagement table."
   ]
  },
  {
   "cell_type": "code",
   "execution_count": 62,
   "metadata": {},
   "outputs": [
    {
     "name": "stdout",
     "output_type": "stream",
     "text": [
      "OrderedDict([('account_key', '1219'), ('status', 'canceled'), ('join_date', datetime.datetime(2014, 11, 12, 0, 0)), ('cancel_date', datetime.datetime(2014, 11, 12, 0, 0)), ('days_to_cancel', 0), ('is_udacity', False), ('is_canceled', True)])\n"
     ]
    }
   ],
   "source": [
    "#create a list of unique student accts in daily_engagement\n",
    "unique_de_students = set()\n",
    "for record in daily_engagement:\n",
    "    unique_de_students.add(record['account_key'])\n",
    "    \n",
    "#for each students in the enrollment file, \n",
    "#if the student acct is no in the list of daily_engagement acct\n",
    "#print the first record & exit the loop\n",
    "for student in enrollments:\n",
    "    if student['account_key'] not in unique_de_students:\n",
    "        print(enrollment)\n",
    "        break"
   ]
  },
  {
   "cell_type": "markdown",
   "metadata": {},
   "source": [
    "We can see above that this student joined & canceled the same day and 'days_to_cancel' is 0. It makes sense that if a student was enrolled for less than a day then no record was retained in the daily_engagement table. Now let's check if there are any other missing engagement records that do not fit this profile."
   ]
  },
  {
   "cell_type": "code",
   "execution_count": 74,
   "metadata": {},
   "outputs": [
    {
     "name": "stdout",
     "output_type": "stream",
     "text": [
      "OrderedDict([('account_key', '1304'), ('status', 'canceled'), ('join_date', datetime.datetime(2015, 1, 10, 0, 0)), ('cancel_date', datetime.datetime(2015, 3, 10, 0, 0)), ('days_to_cancel', 59), ('is_udacity', True), ('is_canceled', True)])\n",
      "OrderedDict([('account_key', '1304'), ('status', 'canceled'), ('join_date', datetime.datetime(2015, 3, 10, 0, 0)), ('cancel_date', datetime.datetime(2015, 6, 17, 0, 0)), ('days_to_cancel', 99), ('is_udacity', True), ('is_canceled', True)])\n",
      "OrderedDict([('account_key', '1101'), ('status', 'current'), ('join_date', datetime.datetime(2015, 2, 25, 0, 0)), ('cancel_date', None), ('days_to_cancel', None), ('is_udacity', True), ('is_canceled', False)])\n"
     ]
    },
    {
     "data": {
      "text/plain": [
       "3"
      ]
     },
     "execution_count": 74,
     "metadata": {},
     "output_type": "execute_result"
    }
   ],
   "source": [
    "other_missing_records = 0\n",
    "for student in enrollments:\n",
    "    #dont't forget the parentheses around the 2 conditions\n",
    "    if (student['account_key'] not in unique_de_students and student['days_to_cancel'] != 0):\n",
    "        other_missing_records +=1\n",
    "        print(student)\n",
    "        \n",
    "other_missing_records"
   ]
  },
  {
   "cell_type": "markdown",
   "metadata": {},
   "source": [
    "The 3 additional records with no engagement data all have 'is_udacity' = True. Here this means that they are test accts."
   ]
  },
  {
   "cell_type": "markdown",
   "metadata": {},
   "source": [
    "# Tracking down the remaining problems"
   ]
  },
  {
   "cell_type": "markdown",
   "metadata": {},
   "source": [
    "We don't want these test accts to be part of our analysis. First let's create a set of account key for all the udacity test accts"
   ]
  },
  {
   "cell_type": "code",
   "execution_count": 76,
   "metadata": {},
   "outputs": [
    {
     "name": "stdout",
     "output_type": "stream",
     "text": [
      "{'1304', '448', '1069', '312', '1101', '818'}\n",
      "6\n"
     ]
    }
   ],
   "source": [
    "udacity_test_accts = set()\n",
    "for student in enrollments:\n",
    "    if student['is_udacity']:\n",
    "        udacity_test_accts.add(student['account_key'])\n",
    "print(udacity_test_accts)\n",
    "print(len(udacity_test_accts))"
   ]
  },
  {
   "cell_type": "markdown",
   "metadata": {},
   "source": [
    "Create a function to remove udacity test account  from all tables"
   ]
  },
  {
   "cell_type": "code",
   "execution_count": 79,
   "metadata": {},
   "outputs": [
    {
     "name": "stdout",
     "output_type": "stream",
     "text": [
      "1622\n",
      "135656\n",
      "3634\n"
     ]
    }
   ],
   "source": [
    "# Given some data with an account_key field, removes any records corresponding to Udacity test accounts\n",
    "def remove_test_accts(data):\n",
    "    non_udacity = []\n",
    "    for record in data:\n",
    "        if record['account_key'] not in udacity_test_accts:\n",
    "            non_udacity.append(record)\n",
    "    return non_udacity\n",
    "\n",
    "# Remove Udacity test accounts from all three tables\n",
    "non_udacity_enrollments = remove_test_accts(enrollments)\n",
    "non_udacity_engagement = remove_test_accts(daily_engagement)\n",
    "non_udacity_submissions = remove_test_accts(project_submissions)\n",
    "\n",
    "print(len(non_udacity_enrollments))\n",
    "print(len(non_udacity_engagement))\n",
    "print(len(non_udacity_submissions))"
   ]
  },
  {
   "cell_type": "markdown",
   "metadata": {},
   "source": [
    "# Refining the Question"
   ]
  },
  {
   "cell_type": "markdown",
   "metadata": {},
   "source": [
    "QUESTION: how do numbers in the daily engagement table differ for students who pass the first project?"
   ]
  },
  {
   "cell_type": "markdown",
   "metadata": {},
   "source": [
    "Problem 1 - This will include the data from after the project submission"
   ]
  },
  {
   "cell_type": "markdown",
   "metadata": {},
   "source": [
    "Problem 2 - This compares data from different length of time"
   ]
  },
  {
   "cell_type": "markdown",
   "metadata": {},
   "source": [
    "Problem 3 - Includes engagement in course not related to the first project"
   ]
  },
  {
   "cell_type": "markdown",
   "metadata": {},
   "source": [
    "Problem 3 is not too much of an issue & could be resolved using the complete data engagement file that includes course breakdown, so we won't try to solve it here. However we want to limit the data to before the project submission and we also want to make sure we look at a fix time period as student engagement may differ over time"
   ]
  },
  {
   "cell_type": "markdown",
   "metadata": {},
   "source": [
    "REVISED QUESTION: Only look at engagement from first week & exclude student that cancel within a week (= during the free trial period)"
   ]
  },
  {
   "cell_type": "code",
   "execution_count": 116,
   "metadata": {},
   "outputs": [
    {
     "name": "stdout",
     "output_type": "stream",
     "text": [
      "429\n",
      "2015-03-10 00:00:00\n",
      "('429', datetime.datetime(2015, 3, 10, 0, 0))\n",
      "995\n"
     ]
    }
   ],
   "source": [
    "## Create a dictionary named paid_students containing all students who either\n",
    "## haven't canceled yet or who remained enrolled for more than 7 days. The keys\n",
    "## should be account keys, and the values should be the date the student enrolled.\n",
    "\n",
    "paid_students = {}\n",
    "for student in non_udacity_enrollments:\n",
    "    if(not student['is_canceled'] or student['days_to_cancel'] > 7):\n",
    "        account_key = student['account_key']\n",
    "        enrollment_date = student['join_date']\n",
    "        #save only the most recent enrollment date for students that enrolled multiple times\n",
    "        if(account_key not in paid_students or enrollment_date > paid_students[account_key]):\n",
    "            paid_students[account_key] = enrollment_date\n",
    "\n",
    "#print(paid_students)\n",
    "print(list(paid_students.keys())[0])\n",
    "print(list(paid_students.values())[0])\n",
    "print(list(paid_students.items())[0])\n",
    "print(len(paid_students))"
   ]
  },
  {
   "cell_type": "markdown",
   "metadata": {},
   "source": [
    "# Getting Data from First Week"
   ]
  },
  {
   "cell_type": "markdown",
   "metadata": {},
   "source": [
    "Create a function that identify students for which engagement happened during the first week"
   ]
  },
  {
   "cell_type": "code",
   "execution_count": 156,
   "metadata": {},
   "outputs": [],
   "source": [
    "# Takes a student's join date and the date of a specific engagement record,\n",
    "# and returns True if that engagement record happened within one week\n",
    "# of the student joining.\n",
    "\n",
    "def within_one_week(join_date, engagement_date):\n",
    "    time_delta = engagement_date - join_date\n",
    "    return time_delta.days < 7 and time_delta.days >= 0"
   ]
  },
  {
   "cell_type": "markdown",
   "metadata": {},
   "source": [
    "Create a function that remove students that only remained for the free trial period"
   ]
  },
  {
   "cell_type": "code",
   "execution_count": 157,
   "metadata": {},
   "outputs": [
    {
     "name": "stdout",
     "output_type": "stream",
     "text": [
      "1293\n",
      "134549\n",
      "3618\n"
     ]
    }
   ],
   "source": [
    "def remove_free_trials(data):\n",
    "    new_data = []\n",
    "    for student in data:\n",
    "        if student['account_key'] in paid_students:\n",
    "            new_data.append(student)\n",
    "    return new_data\n",
    "\n",
    "paid_enrollments = remove_free_trials(non_udacity_enrollments)\n",
    "paid_engagement = remove_free_trials(non_udacity_engagement)\n",
    "paid_submissions = remove_free_trials(non_udacity_submissions)\n",
    "\n",
    "print(len(paid_enrollments))\n",
    "print(len(paid_engagement))\n",
    "print(len(paid_submissions))"
   ]
  },
  {
   "cell_type": "markdown",
   "metadata": {},
   "source": [
    "Create a list of all student records from the engagement table who paid for the course and engaged within one week of the join date"
   ]
  },
  {
   "cell_type": "code",
   "execution_count": 158,
   "metadata": {},
   "outputs": [
    {
     "name": "stdout",
     "output_type": "stream",
     "text": [
      "6919\n"
     ]
    },
    {
     "data": {
      "text/plain": [
       "OrderedDict([('utc_date', datetime.datetime(2015, 1, 9, 0, 0)),\n",
       "             ('num_courses_visited', 1),\n",
       "             ('total_minutes_visited', 11.6793745),\n",
       "             ('lessons_completed', 0),\n",
       "             ('projects_completed', 0),\n",
       "             ('account_key', '0')])"
      ]
     },
     "execution_count": 158,
     "metadata": {},
     "output_type": "execute_result"
    }
   ],
   "source": [
    "## Create a list of rows from the engagement table including only rows where\n",
    "## the student is one of the paid students you just found, and the date is within\n",
    "## one week of the student's join date.\n",
    "\n",
    "paid_engagement_in_first_week = []\n",
    "for record in paid_engagement:\n",
    "    account_key = record['account_key']\n",
    "    join_date = paid_students[account_key]\n",
    "    engagement_date = record['utc_date']\n",
    "    if within_one_week(join_date, engagement_date):\n",
    "        paid_engagement_in_first_week.append(record)\n",
    "\n",
    "print(len(paid_engagement_in_first_week))\n",
    "paid_engagement_in_first_week[0]"
   ]
  },
  {
   "cell_type": "markdown",
   "metadata": {},
   "source": [
    "# Exploring Student Engagement"
   ]
  },
  {
   "cell_type": "markdown",
   "metadata": {},
   "source": [
    "To study student engagement using our data set I want to be able to see the total engagement for each student. To do that we can create a function that will create a dictionary in which multiple records are grouped under a specific key."
   ]
  },
  {
   "cell_type": "code",
   "execution_count": 159,
   "metadata": {},
   "outputs": [
    {
     "data": {
      "text/plain": [
       "('0',\n",
       " [OrderedDict([('utc_date', datetime.datetime(2015, 1, 9, 0, 0)),\n",
       "               ('num_courses_visited', 1),\n",
       "               ('total_minutes_visited', 11.6793745),\n",
       "               ('lessons_completed', 0),\n",
       "               ('projects_completed', 0),\n",
       "               ('account_key', '0')]),\n",
       "  OrderedDict([('utc_date', datetime.datetime(2015, 1, 10, 0, 0)),\n",
       "               ('num_courses_visited', 2),\n",
       "               ('total_minutes_visited', 37.2848873333),\n",
       "               ('lessons_completed', 0),\n",
       "               ('projects_completed', 0),\n",
       "               ('account_key', '0')]),\n",
       "  OrderedDict([('utc_date', datetime.datetime(2015, 1, 11, 0, 0)),\n",
       "               ('num_courses_visited', 2),\n",
       "               ('total_minutes_visited', 53.6337463333),\n",
       "               ('lessons_completed', 0),\n",
       "               ('projects_completed', 0),\n",
       "               ('account_key', '0')]),\n",
       "  OrderedDict([('utc_date', datetime.datetime(2015, 1, 12, 0, 0)),\n",
       "               ('num_courses_visited', 1),\n",
       "               ('total_minutes_visited', 33.4892696667),\n",
       "               ('lessons_completed', 0),\n",
       "               ('projects_completed', 0),\n",
       "               ('account_key', '0')]),\n",
       "  OrderedDict([('utc_date', datetime.datetime(2015, 1, 13, 0, 0)),\n",
       "               ('num_courses_visited', 1),\n",
       "               ('total_minutes_visited', 64.7796776667),\n",
       "               ('lessons_completed', 0),\n",
       "               ('projects_completed', 0),\n",
       "               ('account_key', '0')]),\n",
       "  OrderedDict([('utc_date', datetime.datetime(2015, 1, 14, 0, 0)),\n",
       "               ('num_courses_visited', 1),\n",
       "               ('total_minutes_visited', 151.617576833),\n",
       "               ('lessons_completed', 1),\n",
       "               ('projects_completed', 0),\n",
       "               ('account_key', '0')]),\n",
       "  OrderedDict([('utc_date', datetime.datetime(2015, 1, 15, 0, 0)),\n",
       "               ('num_courses_visited', 1),\n",
       "               ('total_minutes_visited', 142.395963833),\n",
       "               ('lessons_completed', 0),\n",
       "               ('projects_completed', 0),\n",
       "               ('account_key', '0')])])"
      ]
     },
     "execution_count": 159,
     "metadata": {},
     "output_type": "execute_result"
    }
   ],
   "source": [
    "#when the values in a dictionary are collections (lists, dicts, etc.) \n",
    "#the value (an empty list or dict) must be initialized the first time \n",
    "#a given key is used. While this is relatively easy to do manually, \n",
    "#the defaultdict type automates and simplifies these kinds of operations.\n",
    "\n",
    "from collections import defaultdict\n",
    "\n",
    "# Create a function that group records under a specific key\n",
    "\n",
    "def group_data(data, key_name):\n",
    "    grouped_data = defaultdict(list)\n",
    "    for record in data:\n",
    "        key = record[key_name]\n",
    "        grouped_data[key].append(record)\n",
    "    return grouped_data\n",
    "\n",
    "# Create a dictionary of engagement grouped by student.\n",
    "# The keys are account keys, and the values are lists of engagement records.\n",
    "\n",
    "engagement_by_account = group_data(paid_engagement_in_first_week,'account_key')\n",
    "list(engagement_by_account.items())[0]"
   ]
  },
  {
   "cell_type": "markdown",
   "metadata": {},
   "source": [
    "Next we want to know the total_minutes_visited for each students as well as for the entire population. To do that we can first define a function that will create a dictionay of keys with total values attached to it for the specific metric."
   ]
  },
  {
   "cell_type": "code",
   "execution_count": 160,
   "metadata": {},
   "outputs": [
    {
     "name": "stdout",
     "output_type": "stream",
     "text": [
      "('0', 494.88049616599994)\n"
     ]
    }
   ],
   "source": [
    "# Define a function that can be used to sum grouped items for different variables\n",
    "\n",
    "def sum_grouped_items(grouped_data, field_name):\n",
    "    summed_data = {}\n",
    "    for key, records in grouped_data.items():\n",
    "        total = 0\n",
    "        for record in records:\n",
    "            total += record[field_name]\n",
    "        summed_data[key] = total\n",
    "    return summed_data\n",
    "        \n",
    "# Create a dictionary with the total minutes each student spent in the classroom during the first week.\n",
    "# The keys are account keys, and the values are numbers (total minutes)\n",
    "\n",
    "total_minutes_by_account = sum_grouped_items(engagement_by_account, 'total_minutes_visited')\n",
    "\n",
    "print(list(total_minutes_by_account.items())[0])"
   ]
  },
  {
   "cell_type": "markdown",
   "metadata": {},
   "source": [
    "Next we can create a function that will provide summary statistics for a specific variable"
   ]
  },
  {
   "cell_type": "code",
   "execution_count": 226,
   "metadata": {},
   "outputs": [
    {
     "name": "stdout",
     "output_type": "stream",
     "text": [
      "Summary Statistics for total_minutes_visited: \n",
      "Mean is:  306.70832675342825\n",
      "Standard deviation: 412.99693340852957\n",
      "Minimum: 0.0\n",
      "Maximum: 3564.7332644989997\n"
     ]
    }
   ],
   "source": [
    "import numpy as np\n",
    "\n",
    "def describe_data(data, name):\n",
    "    print('Summary Statistics for {}: '.format(name))\n",
    "    print('Mean is: ', np.mean(data))\n",
    "    print('Standard deviation:', np.std(data))\n",
    "    print('Minimum:', np.min(data))\n",
    "    print('Maximum:', np.max(data))\n",
    "\n",
    "describe_data(list(total_minutes_by_account.values()),'total_minutes_visited')"
   ]
  },
  {
   "cell_type": "markdown",
   "metadata": {},
   "source": [
    "# Debugging Data Analysis Code"
   ]
  },
  {
   "cell_type": "markdown",
   "metadata": {},
   "source": [
    "When we first run the result above we can see the maximum is 10568 minutes which is more minutes that there is in 7 days suggesting there is something wrong with the code."
   ]
  },
  {
   "cell_type": "raw",
   "metadata": {},
   "source": [
    "Summary Statistics for total_minutes_visited: \n",
    "Mean is:  647.5901738262695\n",
    "Standard deviation: 1129.2712104188108\n",
    "Minimum: 0.0\n",
    "Maximum: 10568.100867332541"
   ]
  },
  {
   "cell_type": "markdown",
   "metadata": {},
   "source": [
    "To understand what may be happening here let's identify student with the maximum engagement to check what may driving the issue"
   ]
  },
  {
   "cell_type": "code",
   "execution_count": 162,
   "metadata": {},
   "outputs": [
    {
     "name": "stdout",
     "output_type": "stream",
     "text": [
      "163 3564.7332644989997\n"
     ]
    }
   ],
   "source": [
    "student_with_max_minutes = None\n",
    "max_minutes = 0\n",
    "\n",
    "for student, total_minutes in list(total_minutes_by_account.items()):\n",
    "    if total_minutes > max_minutes:\n",
    "        max_minutes = total_minutes\n",
    "        student_with_max_minutes = student\n",
    "\n",
    "print(student_with_max_minutes, max_minutes)\n",
    "\n",
    "#Output prior to debugging\n",
    "#108 10568.100867332541"
   ]
  },
  {
   "cell_type": "code",
   "execution_count": 169,
   "metadata": {},
   "outputs": [
    {
     "data": {
      "text/plain": [
       "('163', 3564.7332644989997)"
      ]
     },
     "execution_count": 169,
     "metadata": {},
     "output_type": "execute_result"
    }
   ],
   "source": [
    "#Alternative way to obtain the data\n",
    "max(total_minutes_by_account.items(), key=lambda pair: pair[1])"
   ]
  },
  {
   "cell_type": "markdown",
   "metadata": {},
   "source": [
    "Next let's print the engagement records associated with this student"
   ]
  },
  {
   "cell_type": "code",
   "execution_count": 163,
   "metadata": {},
   "outputs": [
    {
     "name": "stdout",
     "output_type": "stream",
     "text": [
      "OrderedDict([('utc_date', datetime.datetime(2015, 7, 9, 0, 0)), ('num_courses_visited', 4), ('total_minutes_visited', 850.519339666), ('lessons_completed', 4), ('projects_completed', 0), ('account_key', '163')])\n",
      "OrderedDict([('utc_date', datetime.datetime(2015, 7, 10, 0, 0)), ('num_courses_visited', 6), ('total_minutes_visited', 872.633923334), ('lessons_completed', 6), ('projects_completed', 0), ('account_key', '163')])\n",
      "OrderedDict([('utc_date', datetime.datetime(2015, 7, 11, 0, 0)), ('num_courses_visited', 2), ('total_minutes_visited', 777.018903666), ('lessons_completed', 6), ('projects_completed', 0), ('account_key', '163')])\n",
      "OrderedDict([('utc_date', datetime.datetime(2015, 7, 12, 0, 0)), ('num_courses_visited', 1), ('total_minutes_visited', 294.568774), ('lessons_completed', 2), ('projects_completed', 0), ('account_key', '163')])\n",
      "OrderedDict([('utc_date', datetime.datetime(2015, 7, 13, 0, 0)), ('num_courses_visited', 3), ('total_minutes_visited', 471.2139785), ('lessons_completed', 1), ('projects_completed', 0), ('account_key', '163')])\n",
      "OrderedDict([('utc_date', datetime.datetime(2015, 7, 14, 0, 0)), ('num_courses_visited', 2), ('total_minutes_visited', 298.778345333), ('lessons_completed', 1), ('projects_completed', 0), ('account_key', '163')])\n",
      "OrderedDict([('utc_date', datetime.datetime(2015, 7, 15, 0, 0)), ('num_courses_visited', 0), ('total_minutes_visited', 0.0), ('lessons_completed', 0), ('projects_completed', 0), ('account_key', '163')])\n"
     ]
    }
   ],
   "source": [
    "for record in paid_engagement_in_first_week:\n",
    "    if record['account_key'] == student_with_max_minutes:\n",
    "        print(record)"
   ]
  },
  {
   "cell_type": "markdown",
   "metadata": {},
   "source": [
    "From the data above (prior to debugging it appeared more than 7 days of records were included. Let's pull specifically the engagement data to better visualize the information"
   ]
  },
  {
   "cell_type": "raw",
   "metadata": {},
   "source": [
    "#output prior to debugging for account '108'\n",
    "\n",
    "for record in paid_engagement_in_first_week:\n",
    "    if record['account_key'] == '108':\n",
    "        print(record['utc_date'])\n",
    "\n",
    "2015-01-07 00:00:00\n",
    "(...)\n",
    "2015-04-14 00:00:00\n",
    "2015-04-15 00:00:00\n",
    "2015-04-16 00:00:00\n",
    "2015-04-17 00:00:00\n",
    "2015-04-18 00:00:00\n",
    "2015-04-19 00:00:00\n",
    "2015-04-20 00:00:00\n",
    "2015-04-21 00:00:00\n",
    "2015-04-22 00:00:00\n",
    "2015-04-23 00:00:00\n",
    "2015-04-24 00:00:00\n",
    "2015-04-25 00:00:00\n",
    "2015-04-26 00:00:00"
   ]
  },
  {
   "cell_type": "code",
   "execution_count": 168,
   "metadata": {},
   "outputs": [
    {
     "name": "stdout",
     "output_type": "stream",
     "text": [
      "2015-04-20 00:00:00\n",
      "2015-04-21 00:00:00\n",
      "2015-04-22 00:00:00\n",
      "2015-04-23 00:00:00\n",
      "2015-04-24 00:00:00\n",
      "2015-04-25 00:00:00\n",
      "2015-04-26 00:00:00\n"
     ]
    }
   ],
   "source": [
    "for record in paid_engagement_in_first_week:\n",
    "    if record['account_key'] == '108':\n",
    "        print(record['utc_date'])"
   ]
  },
  {
   "cell_type": "markdown",
   "metadata": {},
   "source": [
    "Why are so many records included? Let's look at this student join_date in the enrollment table.."
   ]
  },
  {
   "cell_type": "code",
   "execution_count": 166,
   "metadata": {},
   "outputs": [
    {
     "name": "stdout",
     "output_type": "stream",
     "text": [
      "2015-01-07 00:00:00\n",
      "2015-04-20 00:00:00\n"
     ]
    }
   ],
   "source": [
    "for record in paid_enrollments:\n",
    "    if record['account_key'] == '108':\n",
    "        print(record['join_date'])"
   ]
  },
  {
   "cell_type": "markdown",
   "metadata": {},
   "source": [
    "This student has 2 join date. Only 7 records where included after the 2nd date but all records prior to this date were also included. This suggest there is something wrong with our within_one_week function:"
   ]
  },
  {
   "cell_type": "raw",
   "metadata": {},
   "source": [
    "#Function before debugging\n",
    "\n",
    "def within_one_week(join_date, engagement_date):\n",
    "    time_delta = engagement_date - join_date\n",
    "    return time_delta.days < 7\n",
    "\n",
    "--> we had forgotten to add a condition to not exclude engagement records prior to the join date."
   ]
  },
  {
   "cell_type": "markdown",
   "metadata": {},
   "source": [
    "# Lessons Completed in First Week"
   ]
  },
  {
   "cell_type": "markdown",
   "metadata": {},
   "source": [
    "To obtain the summary statistics for lessons_completed we can just call again the function we defined earlier."
   ]
  },
  {
   "cell_type": "code",
   "execution_count": 170,
   "metadata": {},
   "outputs": [
    {
     "name": "stdout",
     "output_type": "stream",
     "text": [
      "Summary Statistics for lessons_completed: \n",
      "Mean is:  1.636180904522613\n",
      "Standard deviation: 3.002561299829423\n",
      "Minimum: 0\n",
      "Maximum: 36\n"
     ]
    }
   ],
   "source": [
    "lessons_completed_by_account = sum_grouped_items(engagement_by_account, 'lessons_completed')\n",
    "describe_data(list(lessons_completed_by_account.values()),'lessons_completed')"
   ]
  },
  {
   "cell_type": "markdown",
   "metadata": {},
   "source": [
    "# Number of Visits in First Week"
   ]
  },
  {
   "cell_type": "markdown",
   "metadata": {},
   "source": [
    "To calculate the number of visit in first week we can reuse the code from our sum group function but adding a condition. Note: If the student did not visit one a day, then there will still be a record for that day but num_courses_visited = 0"
   ]
  },
  {
   "cell_type": "code",
   "execution_count": 190,
   "metadata": {},
   "outputs": [
    {
     "data": {
      "text/plain": [
       "[('0', 7), ('1', 2), ('2', 0), ('3', 0), ('4', 1), ('5', 5), ('6', 6)]"
      ]
     },
     "execution_count": 190,
     "metadata": {},
     "output_type": "execute_result"
    }
   ],
   "source": [
    "def summed_visits_in_first_week(data):\n",
    "    total_by_student = {}\n",
    "    for student, student_engagement in data.items():\n",
    "        total = 0\n",
    "        for record in student_engagement:\n",
    "            if record['num_courses_visited'] > 0:\n",
    "                total += 1\n",
    "            total_by_student[student] = total\n",
    "    return total_by_student\n",
    "\n",
    "summed_visits_in_first_week(engagement_by_account)\n",
    "\n",
    "list(total_by_student.items())[:7]"
   ]
  },
  {
   "cell_type": "markdown",
   "metadata": {},
   "source": [
    "We can then call again the describe_data function to obtain the summary statistics"
   ]
  },
  {
   "cell_type": "code",
   "execution_count": 174,
   "metadata": {},
   "outputs": [
    {
     "name": "stdout",
     "output_type": "stream",
     "text": [
      "Summary Statistics for num_courses_visited: \n",
      "Mean is:  2.8673366834170855\n",
      "Standard deviation: 2.2551980029196814\n",
      "Minimum: 0\n",
      "Maximum: 7\n"
     ]
    }
   ],
   "source": [
    "describe_data(list(total_by_student.values()),'num_courses_visited')"
   ]
  },
  {
   "cell_type": "markdown",
   "metadata": {},
   "source": [
    "# Splitting out Passing Students"
   ]
  },
  {
   "cell_type": "markdown",
   "metadata": {},
   "source": [
    "Now that we have the stats for paying students engagement in the first week, it's time to understand the difference in engagement between the students that passed the subway project and these who didn't"
   ]
  },
  {
   "cell_type": "code",
   "execution_count": 184,
   "metadata": {},
   "outputs": [
    {
     "name": "stdout",
     "output_type": "stream",
     "text": [
      "['248', '283', '326', '93', '334']\n",
      "647\n"
     ]
    }
   ],
   "source": [
    "# first let's create a lits of the unique account key for students who passed the subway project\n",
    "\n",
    "subway_project_lesson_keys = ['746169184', '3176718735']\n",
    "\n",
    "pass_subway_project = set()\n",
    "for submission in paid_submissions:\n",
    "    account_key = submission['account_key']\n",
    "    project = submission['lesson_key']\n",
    "    rating = submission['assigned_rating']\n",
    "    passing_grade = ['PASSED', 'DISTINCTION']\n",
    "    if (project in subway_project_lesson_keys and rating in passing_grade):\n",
    "        pass_subway_project.add(account_key)\n",
    "\n",
    "print(list(pass_subway_project)[0:5])\n",
    "print(len(pass_subway_project))"
   ]
  },
  {
   "cell_type": "code",
   "execution_count": 186,
   "metadata": {},
   "outputs": [
    {
     "name": "stdout",
     "output_type": "stream",
     "text": [
      "4527\n",
      "2392\n",
      "6919\n",
      "6919\n"
     ]
    }
   ],
   "source": [
    "# create 2 list of engagement records separating the student who passed the projects from the one who didn't\n",
    "\n",
    "passing_engagement = []\n",
    "non_passing_engagement = []\n",
    "\n",
    "for engagement_record in paid_engagement_in_first_week:\n",
    "    if engagement_record['account_key'] in pass_subway_project:\n",
    "        passing_engagement.append(engagement_record)\n",
    "    else:\n",
    "        non_passing_engagement.append(engagement_record)\n",
    "\n",
    "print(len(passing_engagement))\n",
    "print(len(non_passing_engagement))\n",
    "print(len(passing_engagement)+len(non_passing_engagement))\n",
    "print(len(paid_engagement_in_first_week))"
   ]
  },
  {
   "cell_type": "markdown",
   "metadata": {},
   "source": [
    "# Comparing the 2 Students Group"
   ]
  },
  {
   "cell_type": "markdown",
   "metadata": {},
   "source": [
    "STEP 1 - Group engagement data by student for passing & non-passing students"
   ]
  },
  {
   "cell_type": "code",
   "execution_count": 252,
   "metadata": {},
   "outputs": [],
   "source": [
    "# Create a dictionary of engagement grouped by student for passing_students & non_passing_students\n",
    "# The keys are account keys, and the values are lists of engagement records.\n",
    "\n",
    "passing_engagement_by_account = group_data(passing_engagement,'account_key')\n",
    "non_passing_engagement_by_account = group_data(non_passing_engagement,'account_key')\n",
    "#list(passing_engagement_by_account.items())[0]"
   ]
  },
  {
   "cell_type": "markdown",
   "metadata": {},
   "source": [
    "STEP 2 - Obtain summarised data by student for specific metrics"
   ]
  },
  {
   "cell_type": "code",
   "execution_count": 213,
   "metadata": {},
   "outputs": [
    {
     "name": "stdout",
     "output_type": "stream",
     "text": [
      "('0', 494.88049616599994)\n"
     ]
    }
   ],
   "source": [
    "# obtain sum of each chosen metric by student for students in the two groups \n",
    "# using the sum_grouped_items function defined earlier\n",
    "\n",
    "passing_students_total_minutes_by_account = sum_grouped_items(passing_engagement_by_account, 'total_minutes_visited')\n",
    "non_passing_students_total_minutes_by_account = sum_grouped_items(non_passing_engagement_by_account, 'total_minutes_visited')\n",
    "passing_student_lessons_completed_by_account = sum_grouped_items(passing_engagement_by_account, 'lessons_completed')\n",
    "non_passing_student_lessons_completed_by_account = sum_grouped_items(non_passing_engagement_by_account, 'lessons_completed')\n",
    "passing_students_visits_in_first_week = summed_visits_in_first_week(passing_engagement_by_account)\n",
    "non_passing_students_visits_in_first_week = summed_visits_in_first_week(non_passing_engagement_by_account)\n",
    "passing_student_num_courses_visited_by_account = sum_grouped_items(passing_engagement_by_account, 'num_courses_visited')\n",
    "non_passing_student_num_courses_visited_by_account = sum_grouped_items(non_passing_engagement_by_account, 'num_courses_visited')\n",
    "\n",
    "print(list(passing_students_total_minutes_by_account.items())[0])\n",
    "#print(list(non_passing_students_total_minutes_by_account.items())[0])\n",
    "#print(list(passing_student_lessons_completed_by_account.items())[0])\n",
    "#print(list(non_passing_student_lessons_completed_by_account.items())[0])\n",
    "#print(list(passing_students_visits_in_first_week.items())[:7])\n",
    "#print(list(non_passing_students_visits_in_first_week.items())[:7])"
   ]
  },
  {
   "cell_type": "markdown",
   "metadata": {},
   "source": [
    "STEP 3 - Obtain summary statistics & visualisations for each metric (only relevant results kept in this notebook)"
   ]
  },
  {
   "cell_type": "code",
   "execution_count": 313,
   "metadata": {},
   "outputs": [],
   "source": [
    "%matplotlib inline # enable to see plots in the notebook instead of a separate window\n",
    "import matplotlib.pyplot as plt\n",
    "import seaborn as sns # make the plots look nicer"
   ]
  },
  {
   "cell_type": "code",
   "execution_count": 314,
   "metadata": {},
   "outputs": [
    {
     "name": "stdout",
     "output_type": "stream",
     "text": [
      "Summary Statistics for passing students: \n",
      "Mean is:  394.58604648350865\n",
      "Standard deviation: 448.4995193265521\n",
      "Minimum: 0.0\n",
      "Maximum: 3564.7332644989997\n",
      "Summary Statistics for passing students: \n",
      "Mean is:  143.32647426675584\n",
      "Standard deviation: 269.5386190114951\n",
      "Minimum: 0.0\n",
      "Maximum: 1768.5227493319999\n"
     ]
    },
    {
     "data": {
      "image/png": "[encoded data removed]",
      "text/plain": [
       "<matplotlib.figure.Figure at 0x114b0b5f8>"
      ]
     },
     "metadata": {},
     "output_type": "display_data"
    }
   ],
   "source": [
    "# data to analyse & visualize\n",
    "passing_students = list(passing_students_total_minutes_by_account.values())\n",
    "non_passing_students = list(non_passing_students_total_minutes_by_account.values())\n",
    "\n",
    "# create summary statistics using the function we've defined earlier\n",
    "describe_data(passing_students,'passing students')\n",
    "describe_data(non_passing_students,'passing students')\n",
    "\n",
    "# create histograms using matplotlib\n",
    "legend = ['Passing Students', 'Non-Passing Students']\n",
    "plt.hist([passing_students, non_passing_students], bins = 7, color=['green', 'orange'])\n",
    "plt.title('# Total Minutes Spent in First Week')\n",
    "plt.xlabel('# minutes')\n",
    "plt.ylabel('# students')\n",
    "plt.legend(legend)\n",
    "#plt.xticks(range(0, 4000, 500))\n",
    "#plt.yticks(range(0, 350, 50))\n",
    "plt.show()"
   ]
  },
  {
   "cell_type": "code",
   "execution_count": 315,
   "metadata": {},
   "outputs": [
    {
     "name": "stdout",
     "output_type": "stream",
     "text": [
      "Summary Statistics for passing students: \n",
      "Mean is:  3.384853168469861\n",
      "Standard deviation: 2.2588214709184595\n",
      "Minimum: 0\n",
      "Maximum: 7\n",
      "Summary Statistics for passing students: \n",
      "Mean is:  1.9051724137931034\n",
      "Standard deviation: 1.9057314413619046\n",
      "Minimum: 0\n",
      "Maximum: 7\n"
     ]
    },
    {
     "data": {
      "image/png": "[encoded data removed]",
      "text/plain": [
       "<matplotlib.figure.Figure at 0x1148a6b38>"
      ]
     },
     "metadata": {},
     "output_type": "display_data"
    }
   ],
   "source": [
    "passing_students = list(passing_students_visits_in_first_week.values())\n",
    "non_passing_students = list(non_passing_students_visits_in_first_week.values())\n",
    "\n",
    "describe_data(passing_students,'passing students')\n",
    "describe_data(non_passing_students,'passing students')\n",
    "\n",
    "legend = ['Passing Students', 'Non-Passing Students']\n",
    "plt.hist([passing_students, non_passing_students], bins = 7, color=['green', 'orange'])\n",
    "plt.title('# Days Visited in First Week')\n",
    "plt.xlabel('# days')\n",
    "plt.ylabel('# students')\n",
    "plt.legend(legend)\n",
    "plt.xticks(range(0, 7, 1))\n",
    "plt.yticks(range(0, 160, 20))\n",
    "plt.show()"
   ]
  },
  {
   "cell_type": "code",
   "execution_count": 319,
   "metadata": {},
   "outputs": [],
   "source": [
    "# note that it is possible to add a plot along with the summary statistics \n",
    "# by adding it to the function we defined earlier\n",
    "def describe_data_hist(data, legend, title, x, y):\n",
    "    print('Summary Statistics for {}: '.format(legend))\n",
    "    print('Mean is: ', np.mean(data))\n",
    "    print('Standard deviation:', np.std(data))\n",
    "    print('Minimum:', np.min(data))\n",
    "    print('Maximum:', np.max(data))\n",
    "    plt.hist(data, bins = 20)\n",
    "    plt.title(title)\n",
    "    plt.xlabel(x)\n",
    "    plt.ylabel(y)"
   ]
  },
  {
   "cell_type": "code",
   "execution_count": 320,
   "metadata": {},
   "outputs": [
    {
     "name": "stdout",
     "output_type": "stream",
     "text": [
      "TOTAL MINUTES VISITED\n",
      "Summary Statistics for passing students: \n",
      "Mean is:  394.58604648350865\n",
      "Standard deviation: 448.4995193265521\n",
      "Minimum: 0.0\n",
      "Maximum: 3564.7332644989997\n",
      "Summary Statistics for non passing students: \n",
      "Mean is:  143.32647426675584\n",
      "Standard deviation: 269.5386190114951\n",
      "Minimum: 0.0\n",
      "Maximum: 1768.5227493319999\n"
     ]
    },
    {
     "data": {
      "image/png": "[encoded data removed]",
      "text/plain": [
       "<matplotlib.figure.Figure at 0x1148d9a20>"
      ]
     },
     "metadata": {},
     "output_type": "display_data"
    }
   ],
   "source": [
    "passing_students = list(passing_students_total_minutes_by_account.values())\n",
    "non_passing_students = list(non_passing_students_total_minutes_by_account.values())\n",
    "\n",
    "print('''TOTAL MINUTES VISITED''')\n",
    "describe_data_hist(passing_students,'passing students', 'Total Minutes Spent', 'Minutes', 'Students')\n",
    "describe_data_hist(non_passing_students,'non passing students', 'Total Minutes Spent', 'Minutes', 'Students')"
   ]
  }
 ],
 "metadata": {
  "kernelspec": {
   "display_name": "Python 3",
   "language": "python",
   "name": "python3"
  },
  "language_info": {
   "codemirror_mode": {
    "name": "ipython",
    "version": 3
   },
   "file_extension": ".py",
   "mimetype": "text/x-python",
   "name": "python",
   "nbconvert_exporter": "python",
   "pygments_lexer": "ipython3",
   "version": "3.6.4"
  }
 },
 "nbformat": 4,
 "nbformat_minor": 2
}
